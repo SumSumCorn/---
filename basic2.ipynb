{
 "cells": [
  {
   "cell_type": "markdown",
   "metadata": {},
   "source": [
    "# if 문\n"
   ]
  },
  {
   "cell_type": "code",
   "execution_count": 1,
   "metadata": {},
   "outputs": [
    {
     "name": "stdout",
     "output_type": "stream",
     "text": [
      "if\n",
      "else\n",
      "only if\n"
     ]
    }
   ],
   "source": [
    "if True:  # 콜론 주의\n",
    "    print(\"if\")  # 무조건 4칸 띄기\n",
    "else:\n",
    "    print(\"else\")\n",
    "\n",
    "if False:\n",
    "    print(\"if\")\n",
    "else:\n",
    "    print(\"else\")\n",
    "\n",
    "if True:\n",
    "    print(\"only if\")"
   ]
  },
  {
   "cell_type": "code",
   "execution_count": 2,
   "metadata": {},
   "outputs": [
    {
     "name": "stdout",
     "output_type": "stream",
     "text": [
      "elif\n",
      "else\n",
      "elif2\n"
     ]
    }
   ],
   "source": [
    "if False:\n",
    "    print(\"if\")\n",
    "elif True:  # 추가 조건\n",
    "    print(\"elif\")\n",
    "else:\n",
    "    print(\"else\")\n",
    "\n",
    "if False:\n",
    "    print(\"if\")\n",
    "elif False:\n",
    "    print(\"elif\")\n",
    "else:\n",
    "    print(\"else\")\n",
    "\n",
    "if False:\n",
    "    print(\"if\")\n",
    "elif False:\n",
    "    print(\"elif\")\n",
    "elif True:\n",
    "    print(\"elif2\")"
   ]
  },
  {
   "cell_type": "code",
   "execution_count": 3,
   "metadata": {},
   "outputs": [
    {
     "name": "stdout",
     "output_type": "stream",
     "text": [
      "a는 b보다 크다\n",
      "c는 d와 같다\n",
      "c는 d보다 크거나 같다\n",
      "e는 f와 같지 않다\n",
      "True\n",
      "True\n",
      "True\n",
      "True\n"
     ]
    }
   ],
   "source": [
    "a = 3\n",
    "b = 2\n",
    "if a > b:\n",
    "    print(\"a는 b보다 크다\")\n",
    "\n",
    "c = 2\n",
    "d = 2\n",
    "if c == d:\n",
    "    print(\"c는 d와 같다\")\n",
    "\n",
    "if c >= d:\n",
    "    print(\"c는 d보다 크거나 같다\")\n",
    "\n",
    "e = 2\n",
    "f = 3\n",
    "if e != f:\n",
    "    print(\"e는 f와 같지 않다\")\n",
    "\n",
    "##모든 조건은 True\n",
    "print(a > b)\n",
    "print(c == d)\n",
    "print(c >= d)\n",
    "print(e != f)"
   ]
  },
  {
   "cell_type": "code",
   "execution_count": 4,
   "metadata": {},
   "outputs": [
    {
     "name": "stdout",
     "output_type": "stream",
     "text": [
      "a는 b보다 크고 c와 d는 같다\n",
      "True and False\n",
      "True or False\n"
     ]
    }
   ],
   "source": [
    "a = 3\n",
    "b = 2\n",
    "\n",
    "c = 2\n",
    "d = 2\n",
    "if a > b and c == d:  # 여러 조건을 한번에 하고 싶을 때\n",
    "    print(\"a는 b보다 크고 c와 d는 같다\")\n",
    "\n",
    "if a > b and c > d:\n",
    "    print(\"\")\n",
    "else:\n",
    "    print(\"True and False\")\n",
    "\n",
    "if a > b or c > d:\n",
    "    print(\"True or False\")\n",
    "else:\n",
    "    print(\"\")"
   ]
  },
  {
   "cell_type": "code",
   "execution_count": 5,
   "metadata": {},
   "outputs": [
    {
     "name": "stdout",
     "output_type": "stream",
     "text": [
      "True\n",
      "True\n",
      "True\n",
      "-------------\n",
      "True\n",
      "False\n",
      "True\n"
     ]
    }
   ],
   "source": [
    "a = \"y\" in \"python\"\n",
    "print(a)\n",
    "b = 1 in [1, 2, 3]  # 들어 있는지 확인\n",
    "print(b)\n",
    "c = \"a\" in [\"a\", \"b\"]\n",
    "print(c)\n",
    "\n",
    "print(\"-------------\")\n",
    "\n",
    "d = \"k\" not in \"python\"\n",
    "print(d)\n",
    "e = 4 in [1, 2, 3]\n",
    "print(e)\n",
    "f = \"c\" not in [\"a\", \"b\"]\n",
    "print(f)"
   ]
  },
  {
   "cell_type": "code",
   "execution_count": 6,
   "metadata": {},
   "outputs": [
    {
     "name": "stdout",
     "output_type": "stream",
     "text": [
      "if\n",
      "else\n"
     ]
    }
   ],
   "source": [
    "a = 3\n",
    "b = 2\n",
    "\n",
    "c = \"if\" if a > b else \"else\"  # 한 줄에서 쓰고자 할 때\n",
    "print(c)\n",
    "\n",
    "d = 2\n",
    "e = 2\n",
    "\n",
    "f = \"if\" if d != e else \"else\"\n",
    "print(f)"
   ]
  },
  {
   "cell_type": "markdown",
   "metadata": {},
   "source": [
    "# for 문\n"
   ]
  },
  {
   "cell_type": "code",
   "execution_count": 7,
   "metadata": {},
   "outputs": [
    {
     "name": "stdout",
     "output_type": "stream",
     "text": [
      "<class 'range'>\n",
      "0\n",
      "1\n",
      "2\n",
      "--------------\n",
      "1\n",
      "2\n",
      "3\n",
      "--------------\n",
      "1\n",
      "3\n",
      "5\n",
      "--------------\n",
      "4\n",
      "2\n"
     ]
    }
   ],
   "source": [
    "print(type(range(1, 3)))\n",
    "for i in range(3):\n",
    "    print(i)\n",
    "\n",
    "print(\"--------------\")\n",
    "\n",
    "for i in range(1, 4):\n",
    "    print(i)\n",
    "\n",
    "print(\"--------------\")\n",
    "\n",
    "for i in range(1, 6, 2):\n",
    "    print(i)\n",
    "\n",
    "print(\"--------------\")\n",
    "\n",
    "for i in range(4, 0, -2):\n",
    "    print(i)"
   ]
  },
  {
   "cell_type": "code",
   "execution_count": 8,
   "metadata": {},
   "outputs": [
    {
     "name": "stdout",
     "output_type": "stream",
     "text": [
      "<class 'list'>\n",
      "I love apple\n",
      "I love tomato\n",
      "I love potato\n",
      "--------------\n",
      "I have apple 2ea\n",
      "I have tomato 1ea\n",
      "I have potato 3ea\n"
     ]
    }
   ],
   "source": [
    "print(type([\"apple\", \"tomato\", \"potato\"]))\n",
    "for i in [\"apple\", \"tomato\", \"potato\"]:\n",
    "    print(\"I love \" + i)\n",
    "\n",
    "print(\"--------------\")\n",
    "\n",
    "for a, b in [\n",
    "    [\"apple\", 2],\n",
    "    [\"tomato\", 1],\n",
    "    [\"potato\", 3],\n",
    "]:\n",
    "    print(\"I have \" + a + \" \" + str(b) + \"ea\")"
   ]
  },
  {
   "cell_type": "code",
   "execution_count": 9,
   "metadata": {},
   "outputs": [
    {
     "name": "stdout",
     "output_type": "stream",
     "text": [
      "<class 'tuple'>\n",
      "1\n",
      "2\n",
      "3\n",
      "<class 'dict'>\n",
      "영수의 수학점수는 100\n",
      "광수의 수학점수는 90\n",
      "옥순의 수학점수는 95\n"
     ]
    }
   ],
   "source": [
    "print(type((1, 2, 3)))\n",
    "for i in (1, 2, 3):\n",
    "    print(i)\n",
    "\n",
    "print((type({\"영수\": 100, \"광수\": 90, \"옥순\": 95})))\n",
    "for key, value in {\"영수\": 100, \"광수\": 90, \"옥순\": 95}.items():\n",
    "    print(key + \"의 수학점수는 \" + str(value))"
   ]
  },
  {
   "cell_type": "code",
   "execution_count": 10,
   "metadata": {},
   "outputs": [
    {
     "name": "stdout",
     "output_type": "stream",
     "text": [
      "^.^ 반에서 합격기준을 넘는 학생은 철수\n",
      "^.^ 반에서 합격기준을 넘는 학생은 민수\n",
      "ㅠ ㅠ 반에서 합격기준을 못 넘는 학생은 영구\n",
      "ㅠ ㅠ 반에서 합격기준을 못 넘는 학생은 맹구\n"
     ]
    }
   ],
   "source": [
    "l_score = [[\"철수\", 100], [\"민수\", 90], [\"영구\", 15], [\"맹구\", 10]]\n",
    "standard = 50\n",
    "\n",
    "for student, score in l_score:\n",
    "    if score > standard:\n",
    "        print(\"^.^ 반에서 합격기준을 넘는 학생은 \" + student)\n",
    "    else:\n",
    "        print(\"ㅠ ㅠ 반에서 합격기준을 못 넘는 학생은 \" + student)"
   ]
  },
  {
   "cell_type": "code",
   "execution_count": 11,
   "metadata": {},
   "outputs": [
    {
     "name": "stdout",
     "output_type": "stream",
     "text": [
      "1번째 for문 진행중...\n",
      "0\n",
      "1\n",
      "2\n",
      "3\n",
      "2번째 for문 진행중...\n",
      "0\n",
      "1\n",
      "2\n",
      "3\n",
      "3번째 for문 진행중...\n",
      "0\n",
      "1\n",
      "2\n",
      "3\n"
     ]
    }
   ],
   "source": [
    "for j in range(1, 4):\n",
    "    print(str(j) + \"번째 for문 진행중...\")\n",
    "    for j in range(10):\n",
    "        print(j)\n",
    "        if j > 2:\n",
    "            break"
   ]
  },
  {
   "cell_type": "code",
   "execution_count": 17,
   "metadata": {},
   "outputs": [
    {
     "name": "stdout",
     "output_type": "stream",
     "text": [
      "2 x 1 = 2\n",
      " 2 x 2 = 4\n",
      " 2 x 3 = 6\n",
      " 2 x 4 = 8\n",
      " 2 x 5 = 10\n",
      " 2 x 6 = 12\n",
      " 2 x 7 = 14\n",
      " 2 x 8 = 16\n",
      " 2 x 9 = 18\n",
      " 3 x 1 = 3\n",
      " 3 x 2 = 6\n",
      " 3 x 3 = 9\n",
      " 3 x 4 = 12\n",
      " 3 x 5 = 15\n",
      " 3 x 6 = 18\n",
      " 3 x 7 = 21\n",
      " 3 x 8 = 24\n",
      " 3 x 9 = 27\n",
      " 4 x 1 = 4\n",
      " 4 x 2 = 8\n",
      " 4 x 3 = 12\n",
      " 4 x 4 = 16\n",
      " 4 x 5 = 20\n",
      " 4 x 6 = 24\n",
      " 4 x 7 = 28\n",
      " 4 x 8 = 32\n",
      " 4 x 9 = 36\n",
      " 5 x 1 = 5\n",
      " 5 x 2 = 10\n",
      " 5 x 3 = 15\n",
      " 5 x 4 = 20\n",
      " 5 x 5 = 25\n",
      " 5 x 6 = 30\n",
      " 5 x 7 = 35\n",
      " 5 x 8 = 40\n",
      " 5 x 9 = 45\n",
      " 6 x 1 = 6\n",
      " 6 x 2 = 12\n",
      " 6 x 3 = 18\n",
      " 6 x 4 = 24\n",
      " 6 x 5 = 30\n",
      " 6 x 6 = 36\n",
      " 6 x 7 = 42\n",
      " 6 x 8 = 48\n",
      " 6 x 9 = 54\n",
      " 7 x 1 = 7\n",
      " 7 x 2 = 14\n",
      " 7 x 3 = 21\n",
      " 7 x 4 = 28\n",
      " 7 x 5 = 35\n",
      " 7 x 6 = 42\n",
      " 7 x 7 = 49\n",
      " 7 x 8 = 56\n",
      " 7 x 9 = 63\n",
      " 8 x 1 = 8\n",
      " 8 x 2 = 16\n",
      " 8 x 3 = 24\n",
      " 8 x 4 = 32\n",
      " 8 x 5 = 40\n",
      " 8 x 6 = 48\n",
      " 8 x 7 = 56\n",
      " 8 x 8 = 64\n",
      " 8 x 9 = 72\n",
      " 9 x 1 = 9\n",
      " 9 x 2 = 18\n",
      " 9 x 3 = 27\n",
      " 9 x 4 = 36\n",
      " 9 x 5 = 45\n",
      " 9 x 6 = 54\n",
      " 9 x 7 = 63\n",
      " 9 x 8 = 72\n",
      " 9 x 9 = 81\n",
      "\n"
     ]
    }
   ],
   "source": [
    "result = []\n",
    "\n",
    "for i in range(2, 10):\n",
    "    for j in range(1, 10):\n",
    "        result.append(str(i) + \" x \" + str(j) + \" = \" + str(i * j) + \"\\n\")\n",
    "\n",
    "print(*result)"
   ]
  },
  {
   "cell_type": "markdown",
   "metadata": {},
   "source": [
    "# while 문\n"
   ]
  },
  {
   "cell_type": "code",
   "execution_count": 13,
   "metadata": {},
   "outputs": [
    {
     "name": "stdout",
     "output_type": "stream",
     "text": [
      "True 1\n",
      "True 2\n",
      "True 3\n",
      "True 4\n",
      "True 5\n",
      "True 6\n",
      "True 7\n",
      "True 8\n",
      "True 9\n"
     ]
    }
   ],
   "source": [
    "cnt = 1\n",
    "condition = cnt != 10\n",
    "while condition:\n",
    "    print(condition, cnt)\n",
    "    cnt = cnt + 1\n",
    "    condition = cnt != 10"
   ]
  },
  {
   "cell_type": "code",
   "execution_count": 14,
   "metadata": {},
   "outputs": [
    {
     "name": "stdout",
     "output_type": "stream",
     "text": [
      "False 1\n",
      "False 2\n",
      "False 3\n",
      "False 4\n",
      "False 5\n",
      "False 6\n",
      "False 7\n",
      "False 8\n",
      "False 9\n"
     ]
    }
   ],
   "source": [
    "cnt = 1\n",
    "condition = cnt == 10\n",
    "while True:\n",
    "    print(condition, cnt)\n",
    "    cnt = cnt + 1\n",
    "    condition = cnt == 10\n",
    "    if condition:\n",
    "        break"
   ]
  },
  {
   "cell_type": "code",
   "execution_count": null,
   "metadata": {},
   "outputs": [],
   "source": [
    "cnt = 1\n",
    "while True:\n",
    "    print(cnt)\n",
    "    cnt = cnt + 1"
   ]
  }
 ],
 "metadata": {
  "kernelspec": {
   "display_name": "Python 3",
   "language": "python",
   "name": "python3"
  },
  "language_info": {
   "codemirror_mode": {
    "name": "ipython",
    "version": 3
   },
   "file_extension": ".py",
   "mimetype": "text/x-python",
   "name": "python",
   "nbconvert_exporter": "python",
   "pygments_lexer": "ipython3",
   "version": "3.10.6"
  }
 },
 "nbformat": 4,
 "nbformat_minor": 2
}
