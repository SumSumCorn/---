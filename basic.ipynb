{
 "cells": [
  {
   "cell_type": "markdown",
   "metadata": {},
   "source": [
    "# 파이썬 기초1\n"
   ]
  },
  {
   "cell_type": "code",
   "execution_count": 16,
   "metadata": {},
   "outputs": [
    {
     "name": "stdout",
     "output_type": "stream",
     "text": [
      "hello world\n",
      "여러 코드들\n"
     ]
    }
   ],
   "source": [
    "# #을 이용해서 주석을 넣는다.\n",
    "\n",
    "print(\"hello world\")  # print 함수를 통해서 콘솔 창에 출력한다.\n",
    "\n",
    "if 1 < 3:  # 옆에 콜론 : 을 넣는다.\n",
    "    print(\"여러 코드들\")  # 들여쓰기 (스페이스 4번) 넣어준다."
   ]
  },
  {
   "cell_type": "markdown",
   "metadata": {},
   "source": [
    "## 타입\n",
    "\n",
    "파이썬은 동적 타입 언어이다. 한 변수 안에 여러가지 타입의 값을 넣을 수 있다.\n"
   ]
  },
  {
   "cell_type": "code",
   "execution_count": 17,
   "metadata": {},
   "outputs": [],
   "source": [
    "a = 10\n",
    "a = 3.14\n",
    "a = \"abcd\"\n",
    "a = True"
   ]
  },
  {
   "cell_type": "markdown",
   "metadata": {},
   "source": [
    "파이썬 에서는 4가지 타입이 있다.\n",
    "\n",
    "정수형 int, 실수형 float, 문자형 str, 논리형 bool\n"
   ]
  },
  {
   "cell_type": "code",
   "execution_count": 18,
   "metadata": {},
   "outputs": [
    {
     "name": "stdout",
     "output_type": "stream",
     "text": [
      "<class 'bool'>\n"
     ]
    }
   ],
   "source": [
    "print(type(a))  # 타입 확인하는 코드"
   ]
  },
  {
   "cell_type": "code",
   "execution_count": 19,
   "metadata": {},
   "outputs": [
    {
     "name": "stdout",
     "output_type": "stream",
     "text": [
      "1\n",
      "<class 'int'>\n",
      "2.0\n",
      "<class 'float'>\n",
      "3.0\n",
      "<class 'float'>\n"
     ]
    }
   ],
   "source": [
    "a = 1\n",
    "b = 2.0\n",
    "c = a + b\n",
    "\n",
    "print(a)\n",
    "print(type(a))\n",
    "print(b)\n",
    "print(type(b))\n",
    "print(c)\n",
    "print(type(c))"
   ]
  },
  {
   "cell_type": "markdown",
   "metadata": {},
   "source": [
    "## 사칙연산\n"
   ]
  },
  {
   "cell_type": "code",
   "execution_count": 20,
   "metadata": {},
   "outputs": [
    {
     "name": "stdout",
     "output_type": "stream",
     "text": [
      "5\n",
      "1\n",
      "6\n",
      "1.5\n"
     ]
    }
   ],
   "source": [
    "# 우측 모서리에 커서를 움직이면 코드복사가 가능합니다\n",
    "a = 3\n",
    "b = 2\n",
    "\n",
    "r1 = a + b\n",
    "r2 = a - b\n",
    "r3 = a * b\n",
    "r4 = a / b\n",
    "\n",
    "print(r1)\n",
    "print(r2)\n",
    "print(r3)\n",
    "print(r4)"
   ]
  },
  {
   "cell_type": "markdown",
   "metadata": {},
   "source": [
    "## 사칙연산\n",
    "\n",
    "기본적인 사칙연산 + - \\* / 가 있고\n",
    "몫 : //\n",
    "나머지 : %\n",
    "지수 : \\*\\*\n",
    "\n",
    "연산이 있다.\n"
   ]
  },
  {
   "cell_type": "code",
   "execution_count": 21,
   "metadata": {},
   "outputs": [
    {
     "name": "stdout",
     "output_type": "stream",
     "text": [
      "3\n",
      "2\n"
     ]
    }
   ],
   "source": [
    "# 나머지를 구하고 싶을때는 %를 사용하며 몫을 구하고 싶을때는 //을 사용한다.\n",
    "\n",
    "a = 11\n",
    "b = 3\n",
    "\n",
    "r1 = a // b\n",
    "r2 = a % b\n",
    "\n",
    "print(r1)\n",
    "print(r2)"
   ]
  },
  {
   "cell_type": "markdown",
   "metadata": {},
   "source": [
    "## 문자열\n",
    "\n",
    "문자열은 큰따음표로 감싸거나 작은따음표로 감싸서 나타낸다.\n",
    "\n",
    "- 을 통해서 문자열을 연결할 수도 있고\n",
    "\n",
    "* 을 통해서 문자열을 여러번 출력 할 수 있다.\n"
   ]
  },
  {
   "cell_type": "code",
   "execution_count": 22,
   "metadata": {},
   "outputs": [
    {
     "name": "stdout",
     "output_type": "stream",
     "text": [
      "python!\n",
      "python\n",
      "python!python\n",
      "hellohellohellohellohellohellohellohellohellohello\n"
     ]
    }
   ],
   "source": [
    "## 문자열\n",
    "\n",
    "\n",
    "a = \"python!\"\n",
    "print(a)\n",
    "\n",
    "b = \"python\"\n",
    "print(b)\n",
    "\n",
    "c = a + b\n",
    "print(c)  # 연결하고 출력됨\n",
    "\n",
    "print(\"hello\" * 10)  # hello가 10번 출력됨"
   ]
  },
  {
   "cell_type": "markdown",
   "metadata": {},
   "source": [
    "### 여러가지 문자열 조작\n"
   ]
  },
  {
   "cell_type": "code",
   "execution_count": 23,
   "metadata": {},
   "outputs": [
    {
     "name": "stdout",
     "output_type": "stream",
     "text": [
      "H\n",
      "d\n",
      "11\n"
     ]
    }
   ],
   "source": [
    "sample = \"Hello world\"\n",
    "\n",
    "print(sample[0])  # 처음 문자\n",
    "print(sample[-1])  # 마지막 문자\n",
    "\n",
    "print(len(sample))  # 문자열 길이"
   ]
  },
  {
   "cell_type": "code",
   "execution_count": 24,
   "metadata": {},
   "outputs": [
    {
     "data": {
      "text/plain": [
       "'lo world'"
      ]
     },
     "execution_count": 24,
     "metadata": {},
     "output_type": "execute_result"
    }
   ],
   "source": [
    "sample[:5]  # 0~4 까지의 문자열\n",
    "sample[3:]  # 3부터 끝까지의 문자열"
   ]
  },
  {
   "cell_type": "code",
   "execution_count": 25,
   "metadata": {},
   "outputs": [
    {
     "name": "stdout",
     "output_type": "stream",
     "text": [
      "4\n",
      "6\n",
      "-1\n"
     ]
    }
   ],
   "source": [
    "a = \"I am modoopython\"\n",
    "print(a.count(\"o\"))  # 몇 개인지 셀 때\n",
    "print(a.find(\"o\"))  # 첫번째 o 위치가 어디인지\n",
    "print(a.find(\"k\"))"
   ]
  },
  {
   "cell_type": "code",
   "execution_count": 26,
   "metadata": {},
   "outputs": [
    {
     "name": "stdout",
     "output_type": "stream",
     "text": [
      "python and python\n",
      "PYTHON AND PYTHON\n",
      "python and python\n"
     ]
    }
   ],
   "source": [
    "a = \"python and python\"\n",
    "print(a)\n",
    "b = a.upper()  ##대문자 만들기\n",
    "print(b)\n",
    "c = b.lower()  ##소문자 만들기\n",
    "print(c)"
   ]
  },
  {
   "cell_type": "code",
   "execution_count": 27,
   "metadata": {},
   "outputs": [
    {
     "name": "stdout",
     "output_type": "stream",
     "text": [
      " hellopython\n",
      "hellopython\n",
      "asdfpython \n",
      "asdfpython\n",
      " hellopython \n",
      "hellopython\n"
     ]
    }
   ],
   "source": [
    "d = \" hellopython\"\n",
    "print(d)\n",
    "e = d.lstrip()  # 좌측공백 지우기\n",
    "print(e)\n",
    "f = \"asdfpython \"\n",
    "print(f)\n",
    "g = f.rstrip()  # 우측공백 지우기\n",
    "print(g)\n",
    "h = \" hellopython \"\n",
    "print(h)\n",
    "i = h.strip()  ##양쪽공백 지우기\n",
    "print(i)"
   ]
  },
  {
   "cell_type": "code",
   "execution_count": 28,
   "metadata": {},
   "outputs": [
    {
     "name": "stdout",
     "output_type": "stream",
     "text": [
      "modoopython\n",
      "modoomoney\n",
      "modoo&python\n",
      "['modoo', 'python']\n"
     ]
    }
   ],
   "source": [
    "j = \"modoopython\"\n",
    "print(j)\n",
    "k = j.replace(\"python\", \"money\")  # 문자열 교체하기\n",
    "print(k)\n",
    "l = \"modoo&python\"\n",
    "print(l)\n",
    "m = l.split(\"&\")  # 넣은 문자를 기준으로 나눈다.\n",
    "print(m)"
   ]
  },
  {
   "cell_type": "markdown",
   "metadata": {},
   "source": [
    "## 리스트\n"
   ]
  },
  {
   "cell_type": "code",
   "execution_count": 29,
   "metadata": {},
   "outputs": [
    {
     "name": "stdout",
     "output_type": "stream",
     "text": [
      "[1, 2, 3, 4, 5]\n",
      "['a', 'b', 'c', 'd', 'e']\n",
      "[1, '1', 'a']\n",
      "[1, [1, '1'], 2]\n",
      "[]\n",
      "<class 'list'> <class 'list'> <class 'list'> <class 'list'> <class 'list'>\n"
     ]
    }
   ],
   "source": [
    "a = [1, 2, 3, 4, 5]\n",
    "print(a)\n",
    "b = [\"a\", \"b\", \"c\", \"d\", \"e\"]\n",
    "print(b)\n",
    "c = [1, \"1\", \"a\"]\n",
    "print(c)\n",
    "d = [1, [1, \"1\"], 2]\n",
    "print(d)\n",
    "e = []\n",
    "print(e)\n",
    "print(type(a), type(b), type(c), type(d), type(e))"
   ]
  },
  {
   "cell_type": "code",
   "execution_count": 30,
   "metadata": {},
   "outputs": [
    {
     "name": "stdout",
     "output_type": "stream",
     "text": [
      "4\n",
      "[1, 2, 3]\n"
     ]
    }
   ],
   "source": [
    "a = [1, 2, 3, 4, 5]\n",
    "b = a[3]  # 인덱스\n",
    "print(b)\n",
    "c = a[:3]  # a[0:3]의 결과와 동일\n",
    "print(c)  # 슬라이스"
   ]
  },
  {
   "cell_type": "code",
   "execution_count": 31,
   "metadata": {},
   "outputs": [
    {
     "name": "stdout",
     "output_type": "stream",
     "text": [
      "5\n",
      "[1, 2]\n",
      "[3, 4, 5]\n"
     ]
    }
   ],
   "source": [
    "a = [1, 2, 3, 4, 5]\n",
    "b = a[-1]\n",
    "print(b)\n",
    "c = a[:-3]\n",
    "print(c)  # 슬라이스\n",
    "d = a[-3:]\n",
    "print(d)"
   ]
  },
  {
   "cell_type": "code",
   "execution_count": 32,
   "metadata": {},
   "outputs": [
    {
     "name": "stdout",
     "output_type": "stream",
     "text": [
      "[['침대', 'TV'], ['책상', '컴퓨터'], ['화장대', '오디오']]\n",
      "['침대', 'TV']\n",
      "TV\n"
     ]
    }
   ],
   "source": [
    "house = [[\"침대\", \"TV\"], [\"책상\", \"컴퓨터\"], [\"화장대\", \"오디오\"]]\n",
    "print(house)\n",
    "room1 = house[0]\n",
    "print(room1)\n",
    "tv = house[0][1]\n",
    "print(tv)"
   ]
  },
  {
   "cell_type": "code",
   "execution_count": 33,
   "metadata": {},
   "outputs": [
    {
     "name": "stdout",
     "output_type": "stream",
     "text": [
      "[1, 2, 3, 4, 5]\n",
      "['a', 'b', 'c']\n",
      "[1, 2, 3, 4, 5, 'a', 'b', 'c']\n",
      "5\n",
      "[1, 2, 3, 4, 5, 1, 2, 3, 4, 5]\n"
     ]
    }
   ],
   "source": [
    "a = [1, 2, 3, 4, 5]\n",
    "print(a)\n",
    "b = [\"a\", \"b\", \"c\"]\n",
    "print(b)\n",
    "c = a + b  # 배열 합치기\n",
    "print(c)\n",
    "d = len(a)\n",
    "print(d)\n",
    "e = a * 2\n",
    "print(e)"
   ]
  },
  {
   "cell_type": "code",
   "execution_count": 34,
   "metadata": {},
   "outputs": [
    {
     "name": "stdout",
     "output_type": "stream",
     "text": [
      "[1, 2, 3, 4, 5]\n",
      "[1, 2, 3, 4, 10]\n",
      "[2, 3, 4, 10]\n"
     ]
    }
   ],
   "source": [
    "a = [1, 2, 3, 4, 5]\n",
    "print(a)\n",
    "a[-1] = 10  ##맨마지막 요소값 변경\n",
    "print(a)\n",
    "del a[0]  ##맨앞 요소값 삭제\n",
    "print(a)"
   ]
  },
  {
   "cell_type": "code",
   "execution_count": 35,
   "metadata": {},
   "outputs": [
    {
     "name": "stdout",
     "output_type": "stream",
     "text": [
      "[2, 7, 5]\n",
      "[2, 7, 5, 4]\n",
      "[2, 7, 5, 4]\n",
      "[2, 4, 5, 7]\n",
      "[7, 5, 4, 2]\n",
      "[4, 5, 7, 2]\n"
     ]
    }
   ],
   "source": [
    "a = [2, 7, 5]\n",
    "print(a)\n",
    "a.append(4)\n",
    "print(a)\n",
    "b = a\n",
    "print(b)\n",
    "a.sort()\n",
    "print(a)\n",
    "b.sort(reverse=True)\n",
    "print(b)\n",
    "c = [2, 7, 5, 4]\n",
    "c.reverse()\n",
    "print(c)"
   ]
  },
  {
   "cell_type": "code",
   "execution_count": 36,
   "metadata": {},
   "outputs": [
    {
     "name": "stdout",
     "output_type": "stream",
     "text": [
      "[['영희', 90], ['철수', 100], ['맹구', 25], ['영구', 10]]\n",
      "[['철수', 100], ['영희', 90], ['맹구', 25], ['영구', 10]]\n",
      "[['영구', 10], ['맹구', 25], ['영희', 90], ['철수', 100]]\n"
     ]
    }
   ],
   "source": [
    "math = [[\"영희\", 90], [\"철수\", 100], [\"맹구\", 25], [\"영구\", 10]]\n",
    "print(math)\n",
    "math.sort(key=lambda x: -x[1])  ##리스트 두번째 요소(점수) 크기순으로 정열\n",
    "print(math)\n",
    "math.sort(key=lambda x: x[1])  ##리스트 두번째 요소(점수) 크기가 작은순으로 정열\n",
    "print(math)"
   ]
  }
 ],
 "metadata": {
  "kernelspec": {
   "display_name": "Python 3",
   "language": "python",
   "name": "python3"
  },
  "language_info": {
   "codemirror_mode": {
    "name": "ipython",
    "version": 3
   },
   "file_extension": ".py",
   "mimetype": "text/x-python",
   "name": "python",
   "nbconvert_exporter": "python",
   "pygments_lexer": "ipython3",
   "version": "3.10.6"
  }
 },
 "nbformat": 4,
 "nbformat_minor": 2
}
