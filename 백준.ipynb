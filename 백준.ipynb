{
 "cells": [
  {
   "cell_type": "markdown",
   "metadata": {},
   "source": [
    "## 문제셋\n",
    "\n",
    "백준 과제들은 다음 경로를 따라 가서 문제셋을 확인하시고 오픈된 문제셋을 푸실 수 있습니다.\n",
    "\n",
    "- [백준 온라인 저지](http://boj.kr) → 그룹 → 인텔마이티정올 → 연습\n",
    "\n",
    "![poster](./처음.png)\n"
   ]
  },
  {
   "cell_type": "markdown",
   "metadata": {},
   "source": [
    "# 연습시\n",
    "\n",
    "1. input.txt 파일을 현재 폴더 에서 생성한다.\n",
    "2. 아래의 코드를 쳐서 input.txt 의 내용이 입력이 되도록 세팅한다.\n",
    "3. 콘솔 창에서 python [파이썬파일이름].py 입력해 제대로 출력되는지 확인한다. ex) python test.py\n"
   ]
  },
  {
   "cell_type": "code",
   "execution_count": null,
   "metadata": {},
   "outputs": [],
   "source": [
    "import sys\n",
    "\n",
    "sys.stdin = open(\"input.txt\", \"r\")\n",
    "input = sys.stdin.readline"
   ]
  },
  {
   "cell_type": "markdown",
   "metadata": {},
   "source": [
    "# 백준에서 여러 **숫자** 변수 한줄에 입력할려 할 때\n"
   ]
  },
  {
   "cell_type": "code",
   "execution_count": null,
   "metadata": {},
   "outputs": [],
   "source": [
    "a, b = map(int, input().split())  # 두 숫자 한 줄에 입력할려 할 때\n",
    "\n",
    "c = int(input())  # 한 숫자만 입력할려 할 때\n",
    "\n",
    "arr = list(map(int, input().split()))  # 한줄 숫자 입력을 배열로 받을 때"
   ]
  }
 ],
 "metadata": {
  "kernelspec": {
   "display_name": "Python 3",
   "language": "python",
   "name": "python3"
  },
  "language_info": {
   "codemirror_mode": {
    "name": "ipython",
    "version": 3
   },
   "file_extension": ".py",
   "mimetype": "text/x-python",
   "name": "python",
   "nbconvert_exporter": "python",
   "pygments_lexer": "ipython3",
   "version": "3.10.6"
  }
 },
 "nbformat": 4,
 "nbformat_minor": 2
}
